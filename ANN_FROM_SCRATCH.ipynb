{
  "nbformat": 4,
  "nbformat_minor": 0,
  "metadata": {
    "colab": {
      "provenance": [],
      "authorship_tag": "ABX9TyMY5LQRJrxe0Up+dWskImCW",
      "include_colab_link": true
    },
    "kernelspec": {
      "name": "python3",
      "display_name": "Python 3"
    },
    "language_info": {
      "name": "python"
    }
  },
  "cells": [
    {
      "cell_type": "markdown",
      "metadata": {
        "id": "view-in-github",
        "colab_type": "text"
      },
      "source": [
        "<a href=\"https://colab.research.google.com/github/FaYMan2/Models-from-scratch/blob/main/ANN_FROM_SCRATCH.ipynb\" target=\"_parent\"><img src=\"https://colab.research.google.com/assets/colab-badge.svg\" alt=\"Open In Colab\"/></a>"
      ]
    },
    {
      "cell_type": "code",
      "execution_count": 2,
      "metadata": {
        "id": "InwnvXg97JUQ"
      },
      "outputs": [],
      "source": [
        "import numpy as np\n",
        "import pandas as pd\n",
        "import matplotlib.pyplot as plt"
      ]
    },
    {
      "cell_type": "markdown",
      "source": [
        "## In this notebook we will be creating a ANN using only numpy and python, this will help us understand how ANN work behind the scene"
      ],
      "metadata": {
        "id": "Xo4mmv7fggcd"
      }
    },
    {
      "cell_type": "markdown",
      "source": [
        "#### ANN (articifial neural network) consisits of neorons which are like nodes which are connect to nodes ( neurons ) of the next layer are previous layers by some values called weights and biases, each neuron can be thought of as its own Linear regression and combination of multiple neurons who are trying to find the best fit come together to create non-linearity\n"
      ],
      "metadata": {
        "id": "yHIMQYtXFRb7"
      }
    },
    {
      "cell_type": "markdown",
      "source": [
        "###Firstly we need to devise a method to initialise structure of ANN\n",
        "###ANN consits of neurons which are connected to ever neuron behind it ie Neuron $N_{i,j}$ is connected to $N_{i-1,k} ∀k ∈ (0,j)$ by some Weight and bias values, this structure is called a dense layer.\n",
        "\n",
        "### First idea that comes to mind is to create a array/list to store number of neuron each layer. This way we also know the number of layers in the Network by the list length so.\n",
        "\n",
        "### Secondly we can create a 3-d matrix Any * Any * 2 - layers where $layers[i][j][0]$ will store all the weights corresponding to the $i^{th}$ layer's $j^{th}$ neuron and $layers[i][j][1]$ will store the biases for the same.\n",
        "\n",
        "### To initialise the values of the neurons we will use the numpy random package and initalise random values to each weight initally, WHY!? you can read about it through the links in the end of the notebook.\n",
        "\n"
      ],
      "metadata": {
        "id": "7oRGKcvGY1T0"
      }
    },
    {
      "cell_type": "code",
      "source": [
        "## Code snippet for the above\n",
        "\n",
        "\n",
        "#Example\n",
        "structure : list[int] = [4,3,4,2]\n",
        "\n",
        "def __init__layers(structure):\n",
        "    layers = []\n",
        "    for i in range(1,len(structure)):\n",
        "      weights = np.random.rand(structure[i],structure[i-1])\n",
        "      bias = np.ones(structure[i-1])\n",
        "      layers.append([weights,bias])\n",
        "    return layers\n",
        "\n",
        "\n",
        "layers = __init__layers(structure)\n",
        "\n",
        "print(layers[0][0])\n"
      ],
      "metadata": {
        "colab": {
          "base_uri": "https://localhost:8080/"
        },
        "id": "MLYEGsnGRZ4_",
        "outputId": "ade93ae2-a24d-4813-f032-6a0dc0e950ab"
      },
      "execution_count": 7,
      "outputs": [
        {
          "output_type": "stream",
          "name": "stdout",
          "text": [
            "[[0.35513763 0.69506169 0.15917674 0.47745829]\n",
            " [0.47037855 0.66170052 0.82847528 0.52084076]\n",
            " [0.49845742 0.74958829 0.55583285 0.33680429]]\n"
          ]
        }
      ]
    },
    {
      "cell_type": "markdown",
      "source": [
        "### Now lets create a method to feedforward(get outputs) from out network\n",
        "### A neuron get its ouput by - $ y^{'} = ∑_{i=0}^{n}(Wᵢ.Xᵢ + b_i) $\n",
        "### also we will need a actiavtion function here we will use RELU  "
      ],
      "metadata": {
        "id": "25E4vQe3_re2"
      }
    },
    {
      "cell_type": "code",
      "source": [
        "\n",
        "\n",
        "def feedforward(x):\n",
        "  output = [x.copy()]\n",
        "  for i in range(len(x)):\n",
        ""
      ],
      "metadata": {
        "id": "fqnsgNoniDwD"
      },
      "execution_count": null,
      "outputs": []
    },
    {
      "cell_type": "code",
      "source": [],
      "metadata": {
        "colab": {
          "base_uri": "https://localhost:8080/"
        },
        "id": "_SWhQ3pXVMDP",
        "outputId": "5f722a4e-b5ee-489b-9761-10c25eb5b439"
      },
      "execution_count": 7,
      "outputs": [
        {
          "output_type": "stream",
          "name": "stdout",
          "text": [
            "[[0.83656022 0.37431486]\n",
            " [0.20860903 0.51797112]\n",
            " [0.69305219 0.5888257 ]\n",
            " [0.18981239 0.28017572]\n",
            " [0.47367012 0.39235807]]\n"
          ]
        }
      ]
    }
  ]
}