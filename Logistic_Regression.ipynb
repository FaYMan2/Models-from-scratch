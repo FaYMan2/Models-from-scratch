{
  "nbformat": 4,
  "nbformat_minor": 0,
  "metadata": {
    "colab": {
      "provenance": [],
      "authorship_tag": "ABX9TyNQp3nMN7jhilHB7MNrGT28",
      "include_colab_link": true
    },
    "kernelspec": {
      "name": "python3",
      "display_name": "Python 3"
    },
    "language_info": {
      "name": "python"
    }
  },
  "cells": [
    {
      "cell_type": "markdown",
      "metadata": {
        "id": "view-in-github",
        "colab_type": "text"
      },
      "source": [
        "<a href=\"https://colab.research.google.com/github/FaYMan2/Models-from-scratch/blob/main/Logistic_Regression.ipynb\" target=\"_parent\"><img src=\"https://colab.research.google.com/assets/colab-badge.svg\" alt=\"Open In Colab\"/></a>"
      ]
    },
    {
      "cell_type": "code",
      "execution_count": null,
      "metadata": {
        "id": "SkpCmBq3isRD"
      },
      "outputs": [],
      "source": [
        "import numpy as np\n",
        "import matplotlib.pyplot as plt\n",
        "import pandas as pd"
      ]
    },
    {
      "cell_type": "code",
      "source": [
        "## This notebook we will be creating a Logistic Regression model and give a breif explaination of each step\n",
        "\n",
        "class Logistic_Regressor:\n",
        "\n",
        "  # Creating a constructor/initialisation function to pass parameters such as Number of epochs and Learning rate\n",
        "  def __init__(self,maxEpochs = 1000,Learning_rate = 0.001,threshold = 0.5):\n",
        "    self.weights = 0\n",
        "    self.C = 0\n",
        "    self.Epochs = maxEpochs\n",
        "    self.LR = Learning_rate\n",
        "    self.LOSS = []\n",
        "    self.threshold = threshold\n",
        "\n",
        "\n",
        "  # Function to get predictions from fitted model\n",
        "  # Note : Not to be called before fitting with training data (will give wrong outputs)\n",
        "  def predict(self,X):\n",
        "      pred = np.dot(X,self.weights) + self.C\n",
        "      probability = self.sigmoid(pred)\n",
        "      predictions = [1 if i > self.threshold else 0 for i in probability]\n",
        "      return predictions\n",
        "\n",
        "  # The sigmoid function is used to map probability to 0 or 1 (nearly close),\n",
        "  #  that enables the model to perform binary classification\n",
        "  # The sigmoid function is represented as s(x) = L / 1 - e ^ -x\n",
        "  def sigmoid(self,x):\n",
        "    try:\n",
        "      return 1 / (1 + np.exp(-x))\n",
        "    except:\n",
        "      print(f'Eroor here = {x}')\n",
        "\n",
        "  # The cross entropy loss function is used to calculate loss at each step\n",
        "  # the function in our case can be defined as  Loss = -[y_true * log(y_pred) + (1 - y_true) * log(1 - y_pred)]\n",
        "  def CrossEntropyLoss(self,y_pred,y_true):\n",
        "    # we have to add very small value dx to the insides of a log function as when lim x -> 0 log(x) is undefined\n",
        "    dx = 1e8\n",
        "    k1 = (y_true * np.log(y_pred + dx))\n",
        "    k2 = (1 - y_true * np.log(1 - y_pred + dx))\n",
        "    loss = -np.mean(k1 + k2)\n",
        "    return loss\n",
        "\n",
        "  # This function is used to get predictions for feeding into the model learning process\n",
        "  # NOTE : Not to be used outside class ie not be called using class object\n",
        "  def get_pred(self,X):\n",
        "    pred = np.dot(X,self.weights) + self.C\n",
        "    probability = self.sigmoid(pred)\n",
        "    return probability\n",
        "\n",
        "  def Fit(self,X,y):\n",
        "    # Getting the number of samples and number of features from the input data\n",
        "    sample_count,feature_count = X.shape\n",
        "\n",
        "    # Setting up / Initialising the parameters before training\n",
        "    self.weights = np.zeros(feature_count)\n",
        "    self.C = 0\n",
        "\n",
        "    for i in range(self.Epochs):\n",
        "      # getting predictions for comparison\n",
        "      y_pred = self.get_pred(X)\n",
        "\n",
        "      # Derivative of weights and Bias term (C)\n",
        "      # In gradient descent derivative of loss function is calculated and then divided by number of samples\n",
        "      # for weights derivative = (1/n) * X(y_pred - y_true)\n",
        "      # for bias term (C) derivative = (1/n) * (y_pred - y_true)\n",
        "      weight_derivative = (1/sample_count) * np.dot(X.T,(y_pred - y))\n",
        "      C_derivative = (1/sample_count) * np.sum(y_pred - y)\n",
        "\n",
        "      loss = self.CrossEntropyLoss(y_pred,y)\n",
        "      self.LOSS.append(loss)\n",
        "\n",
        "      # In gradient descent algorithm\n",
        "      # K_+1 = K - Learning rate * derivative(Loss Function)\n",
        "      self.weights -= self.LR * weight_derivative\n",
        "      self.C -= self.LR * C_derivative\n"
      ],
      "metadata": {
        "id": "-683oAJzizN-"
      },
      "execution_count": null,
      "outputs": []
    },
    {
      "cell_type": "markdown",
      "source": [],
      "metadata": {
        "id": "0a0jrbqUpasf"
      }
    },
    {
      "cell_type": "code",
      "source": [
        "## Getting a Binary classification dataset from Sklearn.datasets\n",
        "from sklearn import datasets\n",
        "from sklearn.model_selection import train_test_split\n",
        "lbc = datasets.load_breast_cancer()\n",
        "x = lbc.data\n",
        "y = lbc.target\n",
        "# We have to perform train-test split for Traning and validation of then dataset\n",
        "# For better performance its better to split the training and testing datasets randomly rather than sequntially\n",
        "# its better to import the training-testing split function from sklearn than coding the entire random shuffle by ourself\n",
        "x_train,x_test,y_train,y_test = train_test_split(x,y,test_size = 0.1,random_state = 10)\n",
        "print(x_train.shape,y_train.shape)\n",
        "model = Logistic_Regressor()\n",
        "model.Fit(x_train,y_train)\n",
        "y_pred = model.predict(x_test)\n",
        "print(y_pred)"
      ],
      "metadata": {
        "id": "xI4oVESJizkG",
        "colab": {
          "base_uri": "https://localhost:8080/"
        },
        "outputId": "5515ad07-a5b9-49fb-edda-d4eef3a3976e"
      },
      "execution_count": null,
      "outputs": [
        {
          "output_type": "stream",
          "name": "stdout",
          "text": [
            "(512, 30) (512,)\n"
          ]
        },
        {
          "output_type": "stream",
          "name": "stderr",
          "text": [
            "<ipython-input-32-4a447fb49494>:28: RuntimeWarning: overflow encountered in exp\n",
            "  return 1 / (1 + np.exp(-x))\n"
          ]
        },
        {
          "output_type": "stream",
          "name": "stdout",
          "text": [
            "[0, 1, 1, 0, 1, 1, 1, 0, 0, 1, 1, 1, 0, 1, 0, 0, 1, 1, 1, 0, 0, 1, 1, 1, 0, 0, 1, 0, 1, 1, 1, 1, 0, 1, 1, 1, 1, 1, 1, 1, 1, 1, 1, 1, 1, 0, 0, 0, 0, 1, 1, 1, 0, 1, 1, 0, 0]\n"
          ]
        }
      ]
    },
    {
      "cell_type": "code",
      "source": [
        "# Model we will test the model across accuracy and precision\n",
        "from sklearn.metrics import classification_report\n",
        "print(classification_report(y_pred,y_test))"
      ],
      "metadata": {
        "colab": {
          "base_uri": "https://localhost:8080/"
        },
        "id": "8TFZB9tTmPSL",
        "outputId": "2c4da368-6549-4127-bbcf-116d2b3190da"
      },
      "execution_count": null,
      "outputs": [
        {
          "output_type": "stream",
          "name": "stdout",
          "text": [
            "              precision    recall  f1-score   support\n",
            "\n",
            "           0       0.86      0.90      0.88        20\n",
            "           1       0.94      0.92      0.93        37\n",
            "\n",
            "    accuracy                           0.91        57\n",
            "   macro avg       0.90      0.91      0.90        57\n",
            "weighted avg       0.91      0.91      0.91        57\n",
            "\n"
          ]
        }
      ]
    },
    {
      "cell_type": "code",
      "source": [],
      "metadata": {
        "id": "mnO4wBLtnKe_",
        "colab": {
          "base_uri": "https://localhost:8080/"
        },
        "outputId": "c46a39aa-089d-4113-901f-e3580f7dbb4a"
      },
      "execution_count": null,
      "outputs": [
        {
          "output_type": "stream",
          "name": "stdout",
          "text": [
            "[0 1 1 0 1 1 1 1 0 0 1 1 0 1 0 0 1 1 1 1 0 0 1 1 0 0 1 0 1 1 1 1 0 1 1 1 1\n",
            " 1 1 1 1 1 1 0 1 0 0 0 0 1 1 1 0 1 1 0 0]\n"
          ]
        }
      ]
    },
    {
      "cell_type": "code",
      "source": [],
      "metadata": {
        "id": "OFhGdnxJiz_9"
      },
      "execution_count": null,
      "outputs": []
    }
  ]
}