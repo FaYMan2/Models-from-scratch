{
  "nbformat": 4,
  "nbformat_minor": 0,
  "metadata": {
    "colab": {
      "provenance": [],
      "authorship_tag": "ABX9TyOepsEdwP6FccvobTVxT2yC",
      "include_colab_link": true
    },
    "kernelspec": {
      "name": "python3",
      "display_name": "Python 3"
    },
    "language_info": {
      "name": "python"
    }
  },
  "cells": [
    {
      "cell_type": "markdown",
      "metadata": {
        "id": "view-in-github",
        "colab_type": "text"
      },
      "source": [
        "<a href=\"https://colab.research.google.com/github/FaYMan2/Models-from-scratch/blob/main/K-Nearest_Neighbors.ipynb\" target=\"_parent\"><img src=\"https://colab.research.google.com/assets/colab-badge.svg\" alt=\"Open In Colab\"/></a>"
      ]
    },
    {
      "cell_type": "code",
      "execution_count": 1,
      "metadata": {
        "id": "D_jXX0XPSakN"
      },
      "outputs": [],
      "source": [
        "import numpy as np\n",
        "import matplotlib.pyplot as plt"
      ]
    },
    {
      "cell_type": "code",
      "source": [
        "# This Notebook we will be creating KNN (K - Nearest Neigbours) from scratch\n",
        "\n",
        "class KNN():\n",
        "  # Function to calculate Euclidean distance\n",
        "  def Euclidean(self,x1,x2):\n",
        "    dist = 0\n",
        "    for i in range(len(x1) - 1):\n",
        "      dist += (x1[i] - x2[i])**2\n",
        "    return np.sqrt(dist)\n",
        "\n",
        "  # function to calculate Manhattan distance\n",
        "  def Manhattan(self,x1,x2):\n",
        "    dist = 0\n",
        "    for i in range(len(x1) - 1):\n",
        "      dist += abs(x1[i] - x2[i])\n",
        "    return dist\n",
        "\n",
        "  def isNan(self,x):\n",
        "    return x != x\n",
        "\n",
        "  # Initialising KNN object\n",
        "  def __init__(self,dist='Euclidean',k = 5):\n",
        "    self.k = k\n",
        "    if(dist == 'Euclidean'):\n",
        "      self.dist_func = self.Euclidean\n",
        "    elif(dist == 'Manhattan'):\n",
        "      self.dist_func  = self.Manhattan\n",
        "    else:\n",
        "      raise Exception('Invalid Distance Function')\n",
        "\n",
        "  def fit(self,x,y):\n",
        "    self.X = x\n",
        "    self.Y = y\n",
        "\n",
        "  def Nearest_Neighbors(self,Data_point,inputSet):\n",
        "    distance = []\n",
        "    for i in range(len(inputSet)):\n",
        "      dist = self.dist_func(Data_point,inputSet[i])\n",
        "      distance.append([dist,self.Y[i]])\n",
        "\n",
        "    distance.sort(key = lambda x : x[0])\n",
        "    neighbors = []\n",
        "\n",
        "    for i in range(self.k):\n",
        "      neighbors.append(distance[i][1])\n",
        "\n",
        "    return neighbors\n",
        "\n",
        "  def predict(self,x):\n",
        "    output = []\n",
        "    for datapoint in x:\n",
        "\n",
        "      neighbors = self.Nearest_Neighbors(datapoint,self.X)\n",
        "      Dict = {}\n",
        "\n",
        "      for i in neighbors:\n",
        "          if i in Dict:\n",
        "            Dict[i] = Dict.get(i) + 1\n",
        "          else:\n",
        "            Dict[i] = 1\n",
        "\n",
        "      mx = np.nan\n",
        "      for i in Dict:\n",
        "        if not self.isNan(mx):\n",
        "          if Dict[i] > Dict[mx]:\n",
        "            mx = i\n",
        "        else:\n",
        "          mx = i\n",
        "      output.append(mx)\n",
        "\n",
        "\n",
        "    return output"
      ],
      "metadata": {
        "id": "Y9lc3HodyZbh"
      },
      "execution_count": 70,
      "outputs": []
    },
    {
      "cell_type": "code",
      "source": [
        "from sklearn import datasets\n",
        "from sklearn.model_selection import train_test_split\n",
        "\n",
        "lbc = datasets.load_breast_cancer()\n",
        "x = lbc.data\n",
        "y = lbc.target\n",
        "\n",
        "x_train,x_test,y_train,y_test = train_test_split(x,y,random_state = 20,test_size=0.2)\n",
        "\n",
        "model = KNN(dist = 'Euclidean')\n",
        "model.fit(x_train,y_train)\n",
        "\n",
        "y_pred = model.predict(x_test)\n",
        "\n",
        "from sklearn.metrics import classification_report,confusion_matrix\n",
        "print(classification_report(y_pred,y_test))\n",
        "\n"
      ],
      "metadata": {
        "colab": {
          "base_uri": "https://localhost:8080/"
        },
        "id": "CcC1Betd8mlU",
        "outputId": "f80a3fbf-8476-45a1-f343-4614c89c8872"
      },
      "execution_count": 75,
      "outputs": [
        {
          "output_type": "stream",
          "name": "stdout",
          "text": [
            "              precision    recall  f1-score   support\n",
            "\n",
            "           0       0.90      0.96      0.92        45\n",
            "           1       0.97      0.93      0.95        69\n",
            "\n",
            "    accuracy                           0.94       114\n",
            "   macro avg       0.93      0.94      0.94       114\n",
            "weighted avg       0.94      0.94      0.94       114\n",
            "\n"
          ]
        }
      ]
    }
  ]
}