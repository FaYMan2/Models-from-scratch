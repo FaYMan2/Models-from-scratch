{
  "nbformat": 4,
  "nbformat_minor": 0,
  "metadata": {
    "colab": {
      "provenance": [],
      "authorship_tag": "ABX9TyOWrg3nW7HMax/kz1PuX/yD",
      "include_colab_link": true
    },
    "kernelspec": {
      "name": "python3",
      "display_name": "Python 3"
    },
    "language_info": {
      "name": "python"
    }
  },
  "cells": [
    {
      "cell_type": "markdown",
      "metadata": {
        "id": "view-in-github",
        "colab_type": "text"
      },
      "source": [
        "<a href=\"https://colab.research.google.com/github/FaYMan2/Models-from-scratch/blob/main/K-Nearest_Neighbors.ipynb\" target=\"_parent\"><img src=\"https://colab.research.google.com/assets/colab-badge.svg\" alt=\"Open In Colab\"/></a>"
      ]
    },
    {
      "cell_type": "code",
      "execution_count": 1,
      "metadata": {
        "id": "D_jXX0XPSakN"
      },
      "outputs": [],
      "source": [
        "import numpy as np\n",
        "import matplotlib.pyplot as plt"
      ]
    },
    {
      "cell_type": "code",
      "source": [
        "# This Notebook we will be creating KNN (K - Nearest Neigbours) from scratch\n",
        "\n",
        "\n",
        "class KNN():\n",
        "  # Function to calculate Euclidean distance\n",
        "  def Euclidean(self,x1,x2):\n",
        "    dist = 0\n",
        "    for i in range(len(x1)):\n",
        "      dist += x1**2 + x2[i]**2\n",
        "    return np.sqrt(dist)\n",
        "\n",
        "  # function to calculate Manhattan distance\n",
        "  def Manhattan(self,x1,x2):\n",
        "    dist = 0\n",
        "    for i in range(len(x1)):\n",
        "      dist += abs(x1 - x2[i])\n",
        "    return dist\n",
        "\n",
        "  # Initialising KNN object\n",
        "  def __init__(self,dist='Euclidean',k = 5):\n",
        "    self.k = k\n",
        "    if(dist == 'Euclidean'):\n",
        "      self.dist_func = self.Euclidean\n",
        "    elif(dist == 'Manhattan'):\n",
        "      self.dist_func  = self.Manhattan\n",
        "    else:\n",
        "      raise Exception('Invalid Distance Function')\n",
        "\n",
        "  def Nearest_Neighbors(self,Data_point,inputSet):\n",
        "    distance = []\n",
        "    for x in inputSet:\n",
        "      distance.append(self.dist_func(Data_point,x))\n",
        "    distance.sort()\n",
        "    return distance[0:self.k]\n",
        "\n",
        ""
      ],
      "metadata": {
        "id": "Y9lc3HodyZbh"
      },
      "execution_count": 13,
      "outputs": []
    },
    {
      "cell_type": "code",
      "source": [],
      "metadata": {
        "id": "CcC1Betd8mlU"
      },
      "execution_count": 9,
      "outputs": []
    }
  ]
}